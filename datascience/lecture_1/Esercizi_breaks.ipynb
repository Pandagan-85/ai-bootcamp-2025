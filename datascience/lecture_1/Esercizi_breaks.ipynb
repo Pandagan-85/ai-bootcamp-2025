{
 "cells": [
  {
   "cell_type": "markdown",
   "id": "1f037bdc-0674-498b-84ed-ce964e3a674f",
   "metadata": {},
   "source": [
    "# Break 1:\n",
    "\n",
    "Exercise: Create a dataframe that contains the information about an hypothetical list of christmas presents you made \n",
    "\n",
    "Exercise: Create a dataframe with 1000 rows, columns \"Gender\" and \"Height\", exactly 500 males and 500 females, such that female's height average is roughly 168, and male's roughly 174"
   ]
  },
  {
   "cell_type": "code",
   "execution_count": 2,
   "id": "79153411-4b1e-48b0-8771-7cc4786aeb0e",
   "metadata": {},
   "outputs": [
    {
     "data": {
      "text/html": [
       "<div>\n",
       "<style scoped>\n",
       "    .dataframe tbody tr th:only-of-type {\n",
       "        vertical-align: middle;\n",
       "    }\n",
       "\n",
       "    .dataframe tbody tr th {\n",
       "        vertical-align: top;\n",
       "    }\n",
       "\n",
       "    .dataframe thead th {\n",
       "        text-align: right;\n",
       "    }\n",
       "</style>\n",
       "<table border=\"1\" class=\"dataframe\">\n",
       "  <thead>\n",
       "    <tr style=\"text-align: right;\">\n",
       "      <th></th>\n",
       "      <th>Regalo</th>\n",
       "      <th>Categoria</th>\n",
       "      <th>Destinatario</th>\n",
       "      <th>Prezzo</th>\n",
       "    </tr>\n",
       "  </thead>\n",
       "  <tbody>\n",
       "    <tr>\n",
       "      <th>0</th>\n",
       "      <td>Orologio</td>\n",
       "      <td>Sport</td>\n",
       "      <td>Cugino</td>\n",
       "      <td>591</td>\n",
       "    </tr>\n",
       "    <tr>\n",
       "      <th>1</th>\n",
       "      <td>Pantaloni</td>\n",
       "      <td>Sport</td>\n",
       "      <td>Cugina</td>\n",
       "      <td>803</td>\n",
       "    </tr>\n",
       "    <tr>\n",
       "      <th>2</th>\n",
       "      <td>Tablet</td>\n",
       "      <td>Giocattolo</td>\n",
       "      <td>Cugina</td>\n",
       "      <td>448</td>\n",
       "    </tr>\n",
       "    <tr>\n",
       "      <th>3</th>\n",
       "      <td>Tablet</td>\n",
       "      <td>Sport</td>\n",
       "      <td>Cugina</td>\n",
       "      <td>76</td>\n",
       "    </tr>\n",
       "    <tr>\n",
       "      <th>4</th>\n",
       "      <td>Tablet</td>\n",
       "      <td>Sport</td>\n",
       "      <td>Nonno</td>\n",
       "      <td>73</td>\n",
       "    </tr>\n",
       "  </tbody>\n",
       "</table>\n",
       "</div>"
      ],
      "text/plain": [
       "      Regalo   Categoria Destinatario  Prezzo\n",
       "0   Orologio       Sport       Cugino     591\n",
       "1  Pantaloni       Sport       Cugina     803\n",
       "2     Tablet  Giocattolo       Cugina     448\n",
       "3     Tablet       Sport       Cugina      76\n",
       "4     Tablet       Sport        Nonno      73"
      ]
     },
     "execution_count": 2,
     "metadata": {},
     "output_type": "execute_result"
    }
   ],
   "source": [
    "import pandas as pd\n",
    "import random\n",
    "\n",
    "# Creiamo una lista di regali ipotetici\n",
    "regali = [\n",
    "    'Smartphone', 'Tablet', 'Laptop', 'Giocattolo', 'Vestito', 'Bicicletta', 'Cuffie', \n",
    "    'Libro', 'Gioco da tavolo', 'Peluche', 'Borsa', 'Orologio', 'Zaino', 'Pantaloni', 'Sciarpa'\n",
    "]\n",
    "\n",
    "categorie = ['Elettronica', 'Giocattolo', 'Abbigliamento', 'Sport', 'Accessori']\n",
    "destinatari = ['Mamma', 'Papà', 'Fratello', 'Sorella', 'Amico', 'Amica', 'Nonno', 'Nonna', 'Cugino', 'Cugina']\n",
    "\n",
    "# Creiamo una lista di prezzi casuali\n",
    "prezzi = [random.randint(10, 1000) for _ in range(100)]\n",
    "\n",
    "# Creiamo il DataFrame\n",
    "df_regali = pd.DataFrame({\n",
    "    'Regalo': [random.choice(regali) for _ in range(100)],\n",
    "    'Categoria': [random.choice(categorie) for _ in range(100)],\n",
    "    'Destinatario': [random.choice(destinatari) for _ in range(100)],\n",
    "    'Prezzo': prezzi\n",
    "})\n",
    "\n",
    "# Visualizza le prime righe del DataFrame\n",
    "df_regali.head()"
   ]
  },
  {
   "cell_type": "markdown",
   "id": "7ec8868f-f368-49cf-b2ae-b6f3c50c7f40",
   "metadata": {},
   "source": [
    "Il parametro loc in `np.random.normal(loc=0, scale=5, size=5)` rappresenta la media (o valore centrale) della distribuzione normale da cui vengono generati i numeri casuali."
   ]
  },
  {
   "cell_type": "code",
   "execution_count": 6,
   "id": "d0035432-ad14-4363-977c-45d1737d7285",
   "metadata": {},
   "outputs": [
    {
     "name": "stdout",
     "output_type": "stream",
     "text": [
      "  Gender      Height\n",
      "0   Male  167.751344\n",
      "1   Male  175.436918\n",
      "2   Male  174.395240\n",
      "3   Male  179.804779\n",
      "4   Male  168.920650\n"
     ]
    },
    {
     "data": {
      "text/plain": [
       "Gender\n",
       "Female    167.950689\n",
       "Male      173.945882\n",
       "Name: Height, dtype: float64"
      ]
     },
     "execution_count": 6,
     "metadata": {},
     "output_type": "execute_result"
    }
   ],
   "source": [
    "import pandas as pd\n",
    "import numpy as np\n",
    "\n",
    "# Parametri\n",
    "n_males = 500\n",
    "n_females = 500\n",
    "male_avg_height = 174\n",
    "female_avg_height = 168\n",
    "\n",
    "# Genera altezze per maschi e femmine separatamente\n",
    "male_heights = np.random.normal(male_avg_height, 10, n_males)\n",
    "female_heights = np.random.normal(female_avg_height, 10, n_females)\n",
    "\n",
    "# Crea il DataFrame\n",
    "df = pd.DataFrame({\n",
    "    'Gender': ['Male'] * n_males + ['Female'] * n_females,\n",
    "    'Height': list(male_heights) + list(female_heights)  # Combina direttamente le due liste\n",
    "})\n",
    "\n",
    "# Visualizza le prime righe\n",
    "print(df.head())\n",
    "\n",
    "# Verifica l'altezza media per ciascun genere\n",
    "df.groupby('Gender')['Height'].mean()"
   ]
  },
  {
   "cell_type": "markdown",
   "id": "270be135-a4c2-484c-93f3-769b2af301a8",
   "metadata": {},
   "source": [
    "# Break 2:\n",
    "\n",
    "Exercise: Use the Titanic dataframe to calculate the average Age in each Pclass\n",
    "\n",
    "Exercise: Use the Titanic dataframe to calculate the number of survived that are named John\n",
    "\n"
   ]
  },
  {
   "cell_type": "code",
   "execution_count": 10,
   "id": "a15a934a-376a-4de9-879d-6adc171a8d7f",
   "metadata": {},
   "outputs": [
    {
     "data": {
      "text/html": [
       "<div>\n",
       "<style scoped>\n",
       "    .dataframe tbody tr th:only-of-type {\n",
       "        vertical-align: middle;\n",
       "    }\n",
       "\n",
       "    .dataframe tbody tr th {\n",
       "        vertical-align: top;\n",
       "    }\n",
       "\n",
       "    .dataframe thead th {\n",
       "        text-align: right;\n",
       "    }\n",
       "</style>\n",
       "<table border=\"1\" class=\"dataframe\">\n",
       "  <thead>\n",
       "    <tr style=\"text-align: right;\">\n",
       "      <th></th>\n",
       "      <th>PassengerId</th>\n",
       "      <th>Survived</th>\n",
       "      <th>Pclass</th>\n",
       "      <th>Name</th>\n",
       "      <th>Sex</th>\n",
       "      <th>Age</th>\n",
       "      <th>SibSp</th>\n",
       "      <th>Parch</th>\n",
       "      <th>Ticket</th>\n",
       "      <th>Fare</th>\n",
       "      <th>Cabin</th>\n",
       "      <th>Embarked</th>\n",
       "    </tr>\n",
       "  </thead>\n",
       "  <tbody>\n",
       "    <tr>\n",
       "      <th>0</th>\n",
       "      <td>1</td>\n",
       "      <td>0</td>\n",
       "      <td>3</td>\n",
       "      <td>Braund, Mr. Owen Harris</td>\n",
       "      <td>male</td>\n",
       "      <td>22.0</td>\n",
       "      <td>1</td>\n",
       "      <td>0</td>\n",
       "      <td>A/5 21171</td>\n",
       "      <td>7.2500</td>\n",
       "      <td>NaN</td>\n",
       "      <td>S</td>\n",
       "    </tr>\n",
       "    <tr>\n",
       "      <th>1</th>\n",
       "      <td>2</td>\n",
       "      <td>1</td>\n",
       "      <td>1</td>\n",
       "      <td>Cumings, Mrs. John Bradley (Florence Briggs Th...</td>\n",
       "      <td>female</td>\n",
       "      <td>38.0</td>\n",
       "      <td>1</td>\n",
       "      <td>0</td>\n",
       "      <td>PC 17599</td>\n",
       "      <td>71.2833</td>\n",
       "      <td>C85</td>\n",
       "      <td>C</td>\n",
       "    </tr>\n",
       "    <tr>\n",
       "      <th>2</th>\n",
       "      <td>3</td>\n",
       "      <td>1</td>\n",
       "      <td>3</td>\n",
       "      <td>Heikkinen, Miss. Laina</td>\n",
       "      <td>female</td>\n",
       "      <td>26.0</td>\n",
       "      <td>0</td>\n",
       "      <td>0</td>\n",
       "      <td>STON/O2. 3101282</td>\n",
       "      <td>7.9250</td>\n",
       "      <td>NaN</td>\n",
       "      <td>S</td>\n",
       "    </tr>\n",
       "    <tr>\n",
       "      <th>3</th>\n",
       "      <td>4</td>\n",
       "      <td>1</td>\n",
       "      <td>1</td>\n",
       "      <td>Futrelle, Mrs. Jacques Heath (Lily May Peel)</td>\n",
       "      <td>female</td>\n",
       "      <td>35.0</td>\n",
       "      <td>1</td>\n",
       "      <td>0</td>\n",
       "      <td>113803</td>\n",
       "      <td>53.1000</td>\n",
       "      <td>C123</td>\n",
       "      <td>S</td>\n",
       "    </tr>\n",
       "    <tr>\n",
       "      <th>4</th>\n",
       "      <td>5</td>\n",
       "      <td>0</td>\n",
       "      <td>3</td>\n",
       "      <td>Allen, Mr. William Henry</td>\n",
       "      <td>male</td>\n",
       "      <td>35.0</td>\n",
       "      <td>0</td>\n",
       "      <td>0</td>\n",
       "      <td>373450</td>\n",
       "      <td>8.0500</td>\n",
       "      <td>NaN</td>\n",
       "      <td>S</td>\n",
       "    </tr>\n",
       "  </tbody>\n",
       "</table>\n",
       "</div>"
      ],
      "text/plain": [
       "   PassengerId  Survived  Pclass  \\\n",
       "0            1         0       3   \n",
       "1            2         1       1   \n",
       "2            3         1       3   \n",
       "3            4         1       1   \n",
       "4            5         0       3   \n",
       "\n",
       "                                                Name     Sex   Age  SibSp  \\\n",
       "0                            Braund, Mr. Owen Harris    male  22.0      1   \n",
       "1  Cumings, Mrs. John Bradley (Florence Briggs Th...  female  38.0      1   \n",
       "2                             Heikkinen, Miss. Laina  female  26.0      0   \n",
       "3       Futrelle, Mrs. Jacques Heath (Lily May Peel)  female  35.0      1   \n",
       "4                           Allen, Mr. William Henry    male  35.0      0   \n",
       "\n",
       "   Parch            Ticket     Fare Cabin Embarked  \n",
       "0      0         A/5 21171   7.2500   NaN        S  \n",
       "1      0          PC 17599  71.2833   C85        C  \n",
       "2      0  STON/O2. 3101282   7.9250   NaN        S  \n",
       "3      0            113803  53.1000  C123        S  \n",
       "4      0            373450   8.0500   NaN        S  "
      ]
     },
     "execution_count": 10,
     "metadata": {},
     "output_type": "execute_result"
    }
   ],
   "source": [
    "df2 = pd.read_csv('data/titanic.csv')\n",
    "df2.head()"
   ]
  },
  {
   "cell_type": "code",
   "execution_count": 12,
   "id": "b776e983-a7f3-4f67-809f-b88dbd4ab94b",
   "metadata": {},
   "outputs": [
    {
     "name": "stdout",
     "output_type": "stream",
     "text": [
      "Pclass\n",
      "1    38.233441\n",
      "2    29.877630\n",
      "3    25.140620\n",
      "Name: Age, dtype: float64\n"
     ]
    }
   ],
   "source": [
    "age_class = df2.groupby('Pclass')['Age'].mean()\n",
    "print(age_class)"
   ]
  },
  {
   "cell_type": "code",
   "execution_count": 23,
   "id": "3ff411a6-17d3-4250-ba66-efd78b80c21e",
   "metadata": {},
   "outputs": [
    {
     "name": "stdout",
     "output_type": "stream",
     "text": [
      "John = 44\n"
     ]
    }
   ],
   "source": [
    "# Filtra i passeggeri il cui primo nome è esattamente \"John\" (ignorando titoli e cognomi)\n",
    "john_passengers = df2[df2['Name'].str.extract(r'(\\bJohn\\b)')[0] == 'John']\n",
    "\n",
    "# Conta quanti passeggeri si chiamano esattamente \"John\"\n",
    "john_count = john_passengers.shape[0]\n",
    "\n",
    "# Visualizza il risultato\n",
    "print(f\"John = {john_count}\")\n"
   ]
  },
  {
   "cell_type": "code",
   "execution_count": null,
   "id": "5d5eb678-44f6-4513-b96c-a121d8452b9d",
   "metadata": {},
   "outputs": [],
   "source": []
  }
 ],
 "metadata": {
  "kernelspec": {
   "display_name": "Python 3 (ipykernel)",
   "language": "python",
   "name": "python3"
  },
  "language_info": {
   "codemirror_mode": {
    "name": "ipython",
    "version": 3
   },
   "file_extension": ".py",
   "mimetype": "text/x-python",
   "name": "python",
   "nbconvert_exporter": "python",
   "pygments_lexer": "ipython3",
   "version": "3.11.11"
  }
 },
 "nbformat": 4,
 "nbformat_minor": 5
}
