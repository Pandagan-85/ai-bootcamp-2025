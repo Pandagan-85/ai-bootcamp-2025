{
 "cells": [
  {
   "cell_type": "markdown",
   "id": "6e10ae81-020b-496c-a59e-fae9d8ee99d8",
   "metadata": {},
   "source": [
    "## Esercizio 1\n",
    "\n",
    "Exercise: Create a dataframe of at least 1000 rows about an hypothetical list of employees of your company, extract all employees in the IT department and a Salary greater than 55000.\n",
    "\n"
   ]
  },
  {
   "cell_type": "code",
   "execution_count": 5,
   "id": "c2e9e43d-dbf1-4a7d-9b70-3292f0fa02cd",
   "metadata": {},
   "outputs": [],
   "source": [
    "# Tool preps\n",
    "import pandas as pd\n",
    "import numpy as np"
   ]
  },
  {
   "cell_type": "code",
   "execution_count": 13,
   "id": "dd1b52f7-449c-43be-9551-ef7224831ea8",
   "metadata": {},
   "outputs": [
    {
     "data": {
      "text/html": [
       "<div>\n",
       "<style scoped>\n",
       "    .dataframe tbody tr th:only-of-type {\n",
       "        vertical-align: middle;\n",
       "    }\n",
       "\n",
       "    .dataframe tbody tr th {\n",
       "        vertical-align: top;\n",
       "    }\n",
       "\n",
       "    .dataframe thead th {\n",
       "        text-align: right;\n",
       "    }\n",
       "</style>\n",
       "<table border=\"1\" class=\"dataframe\">\n",
       "  <thead>\n",
       "    <tr style=\"text-align: right;\">\n",
       "      <th></th>\n",
       "      <th>Name</th>\n",
       "      <th>Age</th>\n",
       "      <th>Department</th>\n",
       "      <th>Salary</th>\n",
       "    </tr>\n",
       "  </thead>\n",
       "  <tbody>\n",
       "    <tr>\n",
       "      <th>0</th>\n",
       "      <td>Employee_0</td>\n",
       "      <td>31</td>\n",
       "      <td>Finance</td>\n",
       "      <td>45625</td>\n",
       "    </tr>\n",
       "    <tr>\n",
       "      <th>1</th>\n",
       "      <td>Employee_1</td>\n",
       "      <td>55</td>\n",
       "      <td>Operations</td>\n",
       "      <td>61893</td>\n",
       "    </tr>\n",
       "    <tr>\n",
       "      <th>2</th>\n",
       "      <td>Employee_2</td>\n",
       "      <td>23</td>\n",
       "      <td>Marketing</td>\n",
       "      <td>38793</td>\n",
       "    </tr>\n",
       "    <tr>\n",
       "      <th>3</th>\n",
       "      <td>Employee_3</td>\n",
       "      <td>24</td>\n",
       "      <td>Operations</td>\n",
       "      <td>59007</td>\n",
       "    </tr>\n",
       "    <tr>\n",
       "      <th>4</th>\n",
       "      <td>Employee_4</td>\n",
       "      <td>56</td>\n",
       "      <td>Operations</td>\n",
       "      <td>53766</td>\n",
       "    </tr>\n",
       "  </tbody>\n",
       "</table>\n",
       "</div>"
      ],
      "text/plain": [
       "         Name  Age  Department  Salary\n",
       "0  Employee_0   31     Finance   45625\n",
       "1  Employee_1   55  Operations   61893\n",
       "2  Employee_2   23   Marketing   38793\n",
       "3  Employee_3   24  Operations   59007\n",
       "4  Employee_4   56  Operations   53766"
      ]
     },
     "execution_count": 13,
     "metadata": {},
     "output_type": "execute_result"
    }
   ],
   "source": [
    "# imposto il seme per riprodurre sempre gli stessi valori\n",
    "np.random.seed(42)\n",
    "n = 1000\n",
    "\n",
    "#Genero dei nomi\n",
    "names = [f\"Employee_{i}\" for i in range(n)]  # Nomi ipotetici\n",
    "# Assegno casualmente un dipartimento tra quelli nell'array\n",
    "departments = np.random.choice([\"IT\", \"HR\", \"Marketing\", \"Finance\", \"Operations\"], n) \n",
    "\n",
    "#Genero delle età randomiche\n",
    "ages = np.random.randint(20,60,n)\n",
    "# Genero delle ral per randomiche tra i valori specificati\n",
    "ral = np.random.randint(28000, 70000, n)\n",
    "\n",
    "#  Creo il data frame passando un dizionaro, che avrà il nome colonna delle chiavi, e come valori i singoli elementi di ogni lista\n",
    "df = pd.DataFrame({\n",
    "    \"Name\": names,\n",
    "    \"Age\": ages,\n",
    "    \"Department\": departments,\n",
    "    \"Salary\": ral\n",
    "})\n",
    "\n",
    "df.head()"
   ]
  },
  {
   "cell_type": "code",
   "execution_count": 19,
   "id": "15f82a76-4f78-4fbc-b453-021f54e1aac0",
   "metadata": {},
   "outputs": [
    {
     "data": {
      "text/html": [
       "<div>\n",
       "<style scoped>\n",
       "    .dataframe tbody tr th:only-of-type {\n",
       "        vertical-align: middle;\n",
       "    }\n",
       "\n",
       "    .dataframe tbody tr th {\n",
       "        vertical-align: top;\n",
       "    }\n",
       "\n",
       "    .dataframe thead th {\n",
       "        text-align: right;\n",
       "    }\n",
       "</style>\n",
       "<table border=\"1\" class=\"dataframe\">\n",
       "  <thead>\n",
       "    <tr style=\"text-align: right;\">\n",
       "      <th></th>\n",
       "      <th>Name</th>\n",
       "      <th>Age</th>\n",
       "      <th>Department</th>\n",
       "      <th>Salary</th>\n",
       "    </tr>\n",
       "  </thead>\n",
       "  <tbody>\n",
       "    <tr>\n",
       "      <th>24</th>\n",
       "      <td>Employee_24</td>\n",
       "      <td>40</td>\n",
       "      <td>IT</td>\n",
       "      <td>68747</td>\n",
       "    </tr>\n",
       "    <tr>\n",
       "      <th>38</th>\n",
       "      <td>Employee_38</td>\n",
       "      <td>53</td>\n",
       "      <td>IT</td>\n",
       "      <td>56982</td>\n",
       "    </tr>\n",
       "    <tr>\n",
       "      <th>55</th>\n",
       "      <td>Employee_55</td>\n",
       "      <td>39</td>\n",
       "      <td>IT</td>\n",
       "      <td>69323</td>\n",
       "    </tr>\n",
       "    <tr>\n",
       "      <th>86</th>\n",
       "      <td>Employee_86</td>\n",
       "      <td>22</td>\n",
       "      <td>IT</td>\n",
       "      <td>64875</td>\n",
       "    </tr>\n",
       "    <tr>\n",
       "      <th>87</th>\n",
       "      <td>Employee_87</td>\n",
       "      <td>51</td>\n",
       "      <td>IT</td>\n",
       "      <td>59982</td>\n",
       "    </tr>\n",
       "    <tr>\n",
       "      <th>...</th>\n",
       "      <td>...</td>\n",
       "      <td>...</td>\n",
       "      <td>...</td>\n",
       "      <td>...</td>\n",
       "    </tr>\n",
       "    <tr>\n",
       "      <th>876</th>\n",
       "      <td>Employee_876</td>\n",
       "      <td>28</td>\n",
       "      <td>IT</td>\n",
       "      <td>68197</td>\n",
       "    </tr>\n",
       "    <tr>\n",
       "      <th>896</th>\n",
       "      <td>Employee_896</td>\n",
       "      <td>40</td>\n",
       "      <td>IT</td>\n",
       "      <td>58519</td>\n",
       "    </tr>\n",
       "    <tr>\n",
       "      <th>913</th>\n",
       "      <td>Employee_913</td>\n",
       "      <td>48</td>\n",
       "      <td>IT</td>\n",
       "      <td>55005</td>\n",
       "    </tr>\n",
       "    <tr>\n",
       "      <th>937</th>\n",
       "      <td>Employee_937</td>\n",
       "      <td>23</td>\n",
       "      <td>IT</td>\n",
       "      <td>65383</td>\n",
       "    </tr>\n",
       "    <tr>\n",
       "      <th>955</th>\n",
       "      <td>Employee_955</td>\n",
       "      <td>46</td>\n",
       "      <td>IT</td>\n",
       "      <td>61703</td>\n",
       "    </tr>\n",
       "  </tbody>\n",
       "</table>\n",
       "<p>68 rows × 4 columns</p>\n",
       "</div>"
      ],
      "text/plain": [
       "             Name  Age Department  Salary\n",
       "24    Employee_24   40         IT   68747\n",
       "38    Employee_38   53         IT   56982\n",
       "55    Employee_55   39         IT   69323\n",
       "86    Employee_86   22         IT   64875\n",
       "87    Employee_87   51         IT   59982\n",
       "..            ...  ...        ...     ...\n",
       "876  Employee_876   28         IT   68197\n",
       "896  Employee_896   40         IT   58519\n",
       "913  Employee_913   48         IT   55005\n",
       "937  Employee_937   23         IT   65383\n",
       "955  Employee_955   46         IT   61703\n",
       "\n",
       "[68 rows x 4 columns]"
      ]
     },
     "execution_count": 19,
     "metadata": {},
     "output_type": "execute_result"
    }
   ],
   "source": [
    "# Creo un nuovo dataframe filtrato per dipartimento e ral\n",
    "filtered_df=df[(df[\"Department\"] == \"IT\") & (df[\"Salary\"] > 55000)]\n",
    "\n",
    "filtered_df"
   ]
  },
  {
   "cell_type": "markdown",
   "id": "e8979801-8c6d-4d9e-aa85-1d3a39756265",
   "metadata": {},
   "source": [
    "## Esercizio 2\n",
    "Exercise: Create a column to split the data in Low, Medium, High fare prices and calculate the average Age per each section. Fill the Age set to nan and calculate the average age again, how did it change? How can you fill the age so that the average does not change?"
   ]
  },
  {
   "cell_type": "code",
   "execution_count": 22,
   "id": "c2902c20-1e64-4df3-bffd-71e35c92dcc6",
   "metadata": {},
   "outputs": [
    {
     "data": {
      "text/html": [
       "<div>\n",
       "<style scoped>\n",
       "    .dataframe tbody tr th:only-of-type {\n",
       "        vertical-align: middle;\n",
       "    }\n",
       "\n",
       "    .dataframe tbody tr th {\n",
       "        vertical-align: top;\n",
       "    }\n",
       "\n",
       "    .dataframe thead th {\n",
       "        text-align: right;\n",
       "    }\n",
       "</style>\n",
       "<table border=\"1\" class=\"dataframe\">\n",
       "  <thead>\n",
       "    <tr style=\"text-align: right;\">\n",
       "      <th></th>\n",
       "      <th>PassengerId</th>\n",
       "      <th>Survived</th>\n",
       "      <th>Pclass</th>\n",
       "      <th>Name</th>\n",
       "      <th>Sex</th>\n",
       "      <th>Age</th>\n",
       "      <th>SibSp</th>\n",
       "      <th>Parch</th>\n",
       "      <th>Ticket</th>\n",
       "      <th>Fare</th>\n",
       "      <th>Cabin</th>\n",
       "      <th>Embarked</th>\n",
       "    </tr>\n",
       "  </thead>\n",
       "  <tbody>\n",
       "    <tr>\n",
       "      <th>0</th>\n",
       "      <td>1</td>\n",
       "      <td>0</td>\n",
       "      <td>3</td>\n",
       "      <td>Braund, Mr. Owen Harris</td>\n",
       "      <td>male</td>\n",
       "      <td>22.0</td>\n",
       "      <td>1</td>\n",
       "      <td>0</td>\n",
       "      <td>A/5 21171</td>\n",
       "      <td>7.2500</td>\n",
       "      <td>NaN</td>\n",
       "      <td>S</td>\n",
       "    </tr>\n",
       "    <tr>\n",
       "      <th>1</th>\n",
       "      <td>2</td>\n",
       "      <td>1</td>\n",
       "      <td>1</td>\n",
       "      <td>Cumings, Mrs. John Bradley (Florence Briggs Th...</td>\n",
       "      <td>female</td>\n",
       "      <td>38.0</td>\n",
       "      <td>1</td>\n",
       "      <td>0</td>\n",
       "      <td>PC 17599</td>\n",
       "      <td>71.2833</td>\n",
       "      <td>C85</td>\n",
       "      <td>C</td>\n",
       "    </tr>\n",
       "    <tr>\n",
       "      <th>2</th>\n",
       "      <td>3</td>\n",
       "      <td>1</td>\n",
       "      <td>3</td>\n",
       "      <td>Heikkinen, Miss. Laina</td>\n",
       "      <td>female</td>\n",
       "      <td>26.0</td>\n",
       "      <td>0</td>\n",
       "      <td>0</td>\n",
       "      <td>STON/O2. 3101282</td>\n",
       "      <td>7.9250</td>\n",
       "      <td>NaN</td>\n",
       "      <td>S</td>\n",
       "    </tr>\n",
       "    <tr>\n",
       "      <th>3</th>\n",
       "      <td>4</td>\n",
       "      <td>1</td>\n",
       "      <td>1</td>\n",
       "      <td>Futrelle, Mrs. Jacques Heath (Lily May Peel)</td>\n",
       "      <td>female</td>\n",
       "      <td>35.0</td>\n",
       "      <td>1</td>\n",
       "      <td>0</td>\n",
       "      <td>113803</td>\n",
       "      <td>53.1000</td>\n",
       "      <td>C123</td>\n",
       "      <td>S</td>\n",
       "    </tr>\n",
       "    <tr>\n",
       "      <th>4</th>\n",
       "      <td>5</td>\n",
       "      <td>0</td>\n",
       "      <td>3</td>\n",
       "      <td>Allen, Mr. William Henry</td>\n",
       "      <td>male</td>\n",
       "      <td>35.0</td>\n",
       "      <td>0</td>\n",
       "      <td>0</td>\n",
       "      <td>373450</td>\n",
       "      <td>8.0500</td>\n",
       "      <td>NaN</td>\n",
       "      <td>S</td>\n",
       "    </tr>\n",
       "  </tbody>\n",
       "</table>\n",
       "</div>"
      ],
      "text/plain": [
       "   PassengerId  Survived  Pclass  \\\n",
       "0            1         0       3   \n",
       "1            2         1       1   \n",
       "2            3         1       3   \n",
       "3            4         1       1   \n",
       "4            5         0       3   \n",
       "\n",
       "                                                Name     Sex   Age  SibSp  \\\n",
       "0                            Braund, Mr. Owen Harris    male  22.0      1   \n",
       "1  Cumings, Mrs. John Bradley (Florence Briggs Th...  female  38.0      1   \n",
       "2                             Heikkinen, Miss. Laina  female  26.0      0   \n",
       "3       Futrelle, Mrs. Jacques Heath (Lily May Peel)  female  35.0      1   \n",
       "4                           Allen, Mr. William Henry    male  35.0      0   \n",
       "\n",
       "   Parch            Ticket     Fare Cabin Embarked  \n",
       "0      0         A/5 21171   7.2500   NaN        S  \n",
       "1      0          PC 17599  71.2833   C85        C  \n",
       "2      0  STON/O2. 3101282   7.9250   NaN        S  \n",
       "3      0            113803  53.1000  C123        S  \n",
       "4      0            373450   8.0500   NaN        S  "
      ]
     },
     "execution_count": 22,
     "metadata": {},
     "output_type": "execute_result"
    }
   ],
   "source": [
    "# Importo i dati creando un nuovo data frame\n",
    "df_tit = pd.read_csv(\"data/titanic.csv\")\n",
    "df_tit.head()"
   ]
  },
  {
   "cell_type": "code",
   "execution_count": 67,
   "id": "a9661393-090e-424d-914a-8eaf739ae17f",
   "metadata": {},
   "outputs": [
    {
     "name": "stdout",
     "output_type": "stream",
     "text": [
      "0.0 512.3292\n",
      "count    891.000000\n",
      "mean      32.204208\n",
      "std       49.693429\n",
      "min        0.000000\n",
      "25%        7.910400\n",
      "50%       14.454200\n",
      "75%       31.000000\n",
      "max      512.329200\n",
      "Name: Fare, dtype: float64\n"
     ]
    }
   ],
   "source": [
    "# Voglio capire da quanto a quanto variano i prezzi dei biglietti, per creare dei bin proporzionati\n",
    "# non tanto per il loro numero ma per il loro prezzo\n",
    "print(df_tit[\"Fare\"].min(), df_tit[\"Fare\"].max())\n",
    "print(df_tit[\"Fare\"].describe())"
   ]
  },
  {
   "cell_type": "code",
   "execution_count": 79,
   "id": "e3096b53-ddf4-4426-9c4b-21bb5a4a1ce5",
   "metadata": {},
   "outputs": [
    {
     "name": "stdout",
     "output_type": "stream",
     "text": [
      "        Fare Fare_Category\n",
      "0     7.2500           Low\n",
      "1    71.2833          High\n",
      "2     7.9250        Medium\n",
      "3    53.1000          High\n",
      "4     8.0500        Medium\n",
      "..       ...           ...\n",
      "886  13.0000        Medium\n",
      "887  30.0000        Medium\n",
      "888  23.4500        Medium\n",
      "889  30.0000        Medium\n",
      "890   7.7500           Low\n",
      "\n",
      "[891 rows x 2 columns]\n",
      "\n",
      "Range di Prezzo per ciascuna categoria:\n",
      "Low: 0.00 - 7.91\n",
      "Medium: 7.91 - 31.00\n",
      "High: 31.00 - 512.33\n"
     ]
    }
   ],
   "source": [
    "# Per creare i bin e dividere nelle 3 fasce di prezzo posso usare i 3 quartili\n",
    "# Creiamo i bin basati sui quartili, e farò in modo che:\n",
    "# Low va da prezzo minimo a primo quartile\n",
    "# Medium va da primo quartile al terzo quartile\n",
    "# High va dal terzo quartile al valore massimo\n",
    "bins = [df_tit['Fare'].min(), df_tit['Fare'].quantile(0.25), df_tit['Fare'].quantile(0.75), df_tit['Fare'].max()]\n",
    "labels = ['Low', 'Medium', 'High']\n",
    "\n",
    "df_tit['Fare_Category'] = pd.cut(df_tit['Fare'], bins=bins, labels=labels, include_lowest=True)\n",
    "\n",
    "print(df_tit[['Fare', 'Fare_Category']])\n",
    "\n",
    "print(\"\\nRange di Prezzo per ciascuna categoria:\")\n",
    "for i, label in enumerate(labels):\n",
    "    start = bins[i]\n",
    "    end = bins[i+1]\n",
    "    print(f\"{label}: {start:.2f} - {end:.2f}\")"
   ]
  },
  {
   "cell_type": "code",
   "execution_count": 37,
   "id": "89109dad-943a-490a-8f96-5a7e48a4f284",
   "metadata": {},
   "outputs": [
    {
     "name": "stdout",
     "output_type": "stream",
     "text": [
      "Medium    446\n",
      "Low       223\n",
      "High      222\n",
      "Name: Fare_Category, dtype: int64\n"
     ]
    }
   ],
   "source": [
    "# Controllo la distribuzione dei bin\n",
    "print(df_tit[\"Fare_Category\"].value_counts())"
   ]
  },
  {
   "cell_type": "code",
   "execution_count": 85,
   "id": "95ac6554-fb35-4822-8195-91533429a731",
   "metadata": {},
   "outputs": [
    {
     "data": {
      "image/png": "[encoded data removed]",
      "text/plain": [
       "<Figure size 800x600 with 1 Axes>"
      ]
     },
     "metadata": {},
     "output_type": "display_data"
    }
   ],
   "source": [
    "# Lo mostro graficamente\n",
    "import matplotlib.pyplot as plt\n",
    "import seaborn as sns\n",
    "\n",
    "# Calcolare il numero di valori in ciascuna fascia\n",
    "fare_category_counts = df_tit['Fare_Category'].value_counts()\n",
    "\n",
    "# Creare un grafico a barre per visualizzare le frequenze per ciascuna fascia di prezzo\n",
    "plt.figure(figsize=(8, 6))\n",
    "\n",
    "# Creiamo un grafico a barre\n",
    "sns.barplot(x=fare_category_counts.index, y=fare_category_counts.values, palette='Set1', hue=fare_category_counts)\n",
    "\n",
    "# Aggiungi titolo e etichette\n",
    "plt.title('Numero di Passeggeri per Fascia di Prezzo')\n",
    "plt.xlabel('Categoria di Prezzo')\n",
    "plt.ylabel('Numero di Passeggeri')\n",
    "plt.grid(True)\n",
    "\n",
    "# Aggiungi le etichette per i range di ciascuna fascia\n",
    "for i, label in enumerate(fare_category_counts.index):\n",
    "    start = bins[i]\n",
    "    end = bins[i + 1]\n",
    "    plt.text(i, fare_category_counts.values[i] + 5, f'{start:.2f} - {end:.2f}', \n",
    "             horizontalalignment='center', verticalalignment='bottom', fontsize=12, color='black')\n",
    "\n",
    "# Mostriamo il grafico\n",
    "plt.show()\n"
   ]
  },
  {
   "cell_type": "code",
   "execution_count": 38,
   "id": "f764ca11-543f-42ba-b31c-9c478f981b39",
   "metadata": {},
   "outputs": [
    {
     "name": "stdout",
     "output_type": "stream",
     "text": [
      "Fare_Category\n",
      "Low       28.328671\n",
      "Medium    29.035146\n",
      "High      31.999588\n",
      "Name: Age, dtype: float64\n"
     ]
    }
   ],
   "source": [
    "mean_age_for_fare_cat = df_tit.groupby(\"Fare_Category\")[\"Age\"].mean()\n",
    "print(mean_age_for_fare_cat)"
   ]
  },
  {
   "cell_type": "code",
   "execution_count": 39,
   "id": "377b4bfe-8a14-4356-97c8-e127c3c68ede",
   "metadata": {},
   "outputs": [
    {
     "data": {
      "text/plain": [
       "177"
      ]
     },
     "execution_count": 39,
     "metadata": {},
     "output_type": "execute_result"
    }
   ],
   "source": [
    "# controllo quanti sono i valori vuoti di AGE\n",
    "df_tit[\"Age\"].isna().sum()"
   ]
  },
  {
   "cell_type": "code",
   "execution_count": 41,
   "id": "156a084c-18f2-4405-b88b-b91e6e51ecb5",
   "metadata": {},
   "outputs": [
    {
     "data": {
      "text/plain": [
       "count    714.000000\n",
       "mean      29.699118\n",
       "std       14.526497\n",
       "min        0.420000\n",
       "25%       20.125000\n",
       "50%       28.000000\n",
       "75%       38.000000\n",
       "max       80.000000\n",
       "Name: Age, dtype: float64"
      ]
     },
     "execution_count": 41,
     "metadata": {},
     "output_type": "execute_result"
    }
   ],
   "source": [
    "# controllo come varia l'età\n",
    "df_tit[\"Age\"].describe()"
   ]
  },
  {
   "cell_type": "code",
   "execution_count": 45,
   "id": "a5db6d6e-13fd-4f58-932f-c3d2010079fc",
   "metadata": {},
   "outputs": [
    {
     "name": "stdout",
     "output_type": "stream",
     "text": [
      "min     0.42\n",
      "max    80.00\n",
      "Name: Age, dtype: float64\n"
     ]
    }
   ],
   "source": [
    "# creo un nuovo dataframe che riempie randomicamente l'età, con un range randomico da 0.4 a 80 (min-max)\n",
    "min_max_age = df_tit[\"Age\"].agg([min,max])\n",
    "print(min_max_age)"
   ]
  },
  {
   "cell_type": "code",
   "execution_count": 57,
   "id": "7b172b8e-6a0b-4155-aeda-66e5a717d849",
   "metadata": {},
   "outputs": [
    {
     "data": {
      "text/plain": [
       "0"
      ]
     },
     "execution_count": 57,
     "metadata": {},
     "output_type": "execute_result"
    }
   ],
   "source": [
    "# prendo i valori assegnandoli alle variabili per usarle nel range\n",
    "min_age = min_max_age[\"min\"]\n",
    "max_age = min_max_age[\"max\"]\n",
    "\n",
    "# definisco una funzione per generare i valori randomici\n",
    "def random_age(row):\n",
    "    return np.random.randint(min_age, max_age + 1)\n",
    "    \n",
    "# creo una copia del dataframe\n",
    "df_tit_random_age = df_tit.copy()\n",
    "# Faccio il fill dei valori vuoti con quelli random\n",
    "df_tit_random_age[\"Age\"] = df_tit_random_age.apply(lambda row: random_age(row) if pd.isna(row[\"Age\"]) else row[\"Age\"], axis=1)\n",
    "\n",
    "#vedo se ho riempito tutto\n",
    "df_tit_random_age[\"Age\"].isna().sum()"
   ]
  },
  {
   "cell_type": "code",
   "execution_count": 59,
   "id": "003105e7-5c90-41d0-8a2b-f665a2356cc5",
   "metadata": {},
   "outputs": [
    {
     "name": "stdout",
     "output_type": "stream",
     "text": [
      "Fare_Category\n",
      "Low       32.874439\n",
      "Medium    30.621637\n",
      "High      31.738378\n",
      "Name: Age, dtype: float64\n"
     ]
    }
   ],
   "source": [
    "# Ricalcolo la media per il nuovo data frame\n",
    "mean_age_for_fare_cat_random = df_tit_random_age.groupby(\"Fare_Category\")[\"Age\"].mean()\n",
    "print(mean_age_for_fare_cat_random)"
   ]
  },
  {
   "cell_type": "code",
   "execution_count": 61,
   "id": "dd918e5d-ad60-47ce-b893-433a57dbf534",
   "metadata": {},
   "outputs": [
    {
     "name": "stdout",
     "output_type": "stream",
     "text": [
      "Fare_Category\n",
      "Low       28.328671\n",
      "Medium    29.035146\n",
      "High      31.999588\n",
      "Name: Age, dtype: float64\n"
     ]
    }
   ],
   "source": [
    "# Quella iniziale invece era\n",
    "mean_age_for_fare_cat = df_tit.groupby(\"Fare_Category\")[\"Age\"].mean()\n",
    "print(mean_age_for_fare_cat)"
   ]
  },
  {
   "cell_type": "code",
   "execution_count": 65,
   "id": "4e69925c-d932-432f-b7bf-7ec324a1b4cf",
   "metadata": {},
   "outputs": [],
   "source": [
    "# La media è cambiata, quindi posso provare invece di riempire in NaN di age randomicamente, userò il valore medio:\n",
    "# creo una copia del dataframe\n",
    "df_tit_fitted_mean_age = df_tit.copy()\n",
    "\n",
    "# Faccio il fill dei valori vuoti con quelli random\n",
    "df_tit_fitted_mean_age[\"Age\"] = df_tit_fitted_mean_age[\"Age\"].fillna(df_tit[\"Age\"].mean())"
   ]
  },
  {
   "cell_type": "code",
   "execution_count": 66,
   "id": "d5548e31-592f-4a07-a0a1-9bda89c9b34c",
   "metadata": {},
   "outputs": [
    {
     "name": "stdout",
     "output_type": "stream",
     "text": [
      "Fare_Category\n",
      "Low       28.820311\n",
      "Medium    29.137868\n",
      "High      31.709438\n",
      "Name: Age, dtype: float64\n"
     ]
    }
   ],
   "source": [
    "# calcolo le nuove medie per vedere se non cambiano da quelle iniziali\n",
    "df_tit_fitted_mean_age = df_tit_fitted_mean_age.groupby(\"Fare_Category\")[\"Age\"].mean()\n",
    "print(df_tit_fitted_mean_age)"
   ]
  },
  {
   "cell_type": "code",
   "execution_count": 86,
   "id": "89539206-1796-4c06-8850-1f72514396f6",
   "metadata": {},
   "outputs": [
    {
     "data": {
      "image/png": "[encoded data removed]",
      "text/plain": [
       "<Figure size 1000x600 with 1 Axes>"
      ]
     },
     "metadata": {},
     "output_type": "display_data"
    }
   ],
   "source": [
    "# Creazione di un DataFrame con le età medie per confronto\n",
    "age_comparison = pd.DataFrame({\n",
    "    'Category': mean_age_for_fare_cat.index,\n",
    "    'Mean Age - Original': mean_age_for_fare_cat.values,\n",
    "    'Mean Age - Random': mean_age_for_fare_cat_random.values,\n",
    "    'Mean Age - Fitted': df_tit_fitted_mean_age.values\n",
    "})\n",
    "\n",
    "# Plot del confronto tra età media per categoria\n",
    "age_comparison.set_index('Category').plot(kind='bar', figsize=(10, 6))\n",
    "plt.title('Confronto tra Età Media per Categoria di Prezzo (Originale, Random, Fitted)')\n",
    "plt.ylabel('Età Media')\n",
    "plt.xlabel('Categoria di Prezzo')\n",
    "plt.xticks(rotation=0)\n",
    "plt.legend(title=\"Tipo di Età Media\")\n",
    "plt.show()\n"
   ]
  },
  {
   "cell_type": "code",
   "execution_count": null,
   "id": "c731cdc7-7a24-4bad-99fd-acf2c133244e",
   "metadata": {},
   "outputs": [],
   "source": []
  }
 ],
 "metadata": {
  "kernelspec": {
   "display_name": "Python 3 (ipykernel)",
   "language": "python",
   "name": "python3"
  },
  "language_info": {
   "codemirror_mode": {
    "name": "ipython",
    "version": 3
   },
   "file_extension": ".py",
   "mimetype": "text/x-python",
   "name": "python",
   "nbconvert_exporter": "python",
   "pygments_lexer": "ipython3",
   "version": "3.11.11"
  }
 },
 "nbformat": 4,
 "nbformat_minor": 5
}
